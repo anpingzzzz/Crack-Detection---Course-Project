{
 "cells": [
  {
   "cell_type": "code",
   "execution_count": 1,
   "metadata": {},
   "outputs": [],
   "source": [
    "import image_slicer\n",
    "import imageio\n",
    "from PIL import Image\n",
    "# a = imageio.imread(\"./cell64/imgs2/00_01_01.png\")\n",
    "# print(a.shape)\n",
    "import os\n",
    "path = \"./data/crack_volker/masks/\"  # searching for the file path\n",
    "for fpath, dirname, fnames in os.walk(path):\n",
    "    for f in fnames:\n",
    "        filename = os.path.join(fpath,f)\n",
    "        if filename.endswith('jpg'):  # filter files end with jpg\n",
    "            print(filename[:-4])\n",
    "            image = Image.open(filename)\n",
    "            new_im = image.resize((128,128))\n",
    "            new_im.save(filename[:-4]+'_new'+'.png')\n",
    "            # new_im.close()\n",
    "            #image_slicer.slice(filename,2)"
   ]
  },
  {
   "cell_type": "code",
   "execution_count": null,
   "metadata": {},
   "outputs": [],
   "source": []
  }
 ],
 "metadata": {
  "kernelspec": {
   "display_name": "Python 3.8.13 ('crack-tda')",
   "language": "python",
   "name": "python3"
  },
  "language_info": {
   "codemirror_mode": {
    "name": "ipython",
    "version": 3
   },
   "file_extension": ".py",
   "mimetype": "text/x-python",
   "name": "python",
   "nbconvert_exporter": "python",
   "pygments_lexer": "ipython3",
   "version": "3.8.13"
  },
  "orig_nbformat": 4,
  "vscode": {
   "interpreter": {
    "hash": "841e44a90ee23f97eb54a5123c8ba06d11ed79204554c5f09debbfd9c5d5042f"
   }
  }
 },
 "nbformat": 4,
 "nbformat_minor": 2
}
